{
 "cells": [
  {
   "attachments": {},
   "cell_type": "markdown",
   "metadata": {},
   "source": [
    "List 자료구조\n",
    "      순서를 유지하고 저장\n",
    "      중복 저장 가능\n",
    "      요소의 값 변경 가능\n",
    "Tuple 자료구조 \n",
    "      순서를 유지하고 저장\n",
    "      중복 저장 가능\n",
    "      요소의 값 변경 불가능 : 주민번호는 변경 불가능, 핸드폰번호, 이메일은 변경 가능\n",
    "Set 자료구조\n",
    "      바구니에 과일 올려놓은 경우, 순서가 없다.\n",
    "      순서를 유지하지 않고 저장\n",
    "      중복을 허용하지 않음\n",
    "Dictionary\n",
    "      키(Key)와 값(Value)의 쌍으로 저장\n",
    "      동일한 키가 있다면, 키에 대응하는 값은 변경 가능   "
   ]
  },
  {
   "cell_type": "code",
   "execution_count": 3,
   "metadata": {},
   "outputs": [
    {
     "name": "stdout",
     "output_type": "stream",
     "text": [
      "[60, 20, 30, 40, 50]\n"
     ]
    },
    {
     "data": {
      "text/plain": [
       "<function __main__.myfunc()>"
      ]
     },
     "execution_count": 3,
     "metadata": {},
     "output_type": "execute_result"
    }
   ],
   "source": [
    "\"\"\"\n",
    "[중요] 리스트(list) 자료구조 예제\n",
    "      list는 다양한 자료형을 담을 수 있다.\n",
    "      list 자료구조는 순서를 유지하고 저장한다(순서가 있다. index가 있다.)\n",
    "      list 자료구조는 요소의 값을 변경 가능\n",
    "      list 자료구조는 값을 중복 저장 가능\n",
    "      list는 함수를 포함할 수 있다. java에서는 불가능.\n",
    "\"\"\"\n",
    "list1 = [10, 20, 30, 40, 50]\n",
    "list2 = ['a', 'b', 'c']\n",
    "list3 = [10, 'a','abc', [10,20,30,40,50], ['a', 'b', 'c']]  # list에 list를 담을 수 있다\n",
    "list1[0] = 60     # index는 0부터 시작, = (할당, 대입연산자)\n",
    "print(list1)\n",
    "#print(list2)\n",
    "#print(list3)\n",
    "\n",
    "def myfunc():\n",
    "  print('안녕하세요')\n",
    "  \n",
    "list4 = [10, 20, myfunc]     # list에 함수를 담을 수 있다 (C, java 모두 불가능)\n",
    "\n",
    "# list4[2]는 myfunc를 의미하고, myfunc()이다. 즉 myfunc을 호출하라는 의미이다.  \n",
    "list4[2]()                   \n"
   ]
  },
  {
   "cell_type": "code",
   "execution_count": null,
   "metadata": {},
   "outputs": [],
   "source": [
    "\"\"\"\n",
    "[매우 중요]\n",
    "리스트(list) 자료구조에 함수를 담을 수 있다는 것을 장고(Django) 프레임워크에 적용해보자!!\n",
    "\n",
    "Backend 개발 : Python, Java, Spring FW, Django FW\n",
    "\"\"\"\n",
    "from django.urls import path            # path 함수를 사용하기 위해 import \n",
    "                                        # from 이후는 모듈이라 함.\n",
    "\n",
    "urlpatterns = [ \n",
    "  path('admin/', admin.site.urls),      # admin 계정으로 요청오면, \n",
    "  path('pybo/', views.index)            # 파이썬으로 만든 게시판 bodo = pybo : views.py 파일의 index 함수를 실행하라\n",
    "]  "
   ]
  },
  {
   "cell_type": "code",
   "execution_count": 1,
   "metadata": {},
   "outputs": [
    {
     "name": "stdout",
     "output_type": "stream",
     "text": [
      "안녕하세요\n"
     ]
    }
   ],
   "source": [
    "\"\"\"\n",
    "튜플(tuple) 자료구조 예제\n",
    "      tuple는 다양한 자료형을 담을 수 있다. \n",
    "\"\"\"\n",
    "\n",
    "tuple1 = (10, 20, 30, 40, 50)\n",
    "tuple2 = ('a', 'b', 'c')\n",
    "tuple3 = (10, 'a','abc', [10,20,30,40,50], ['a', 'b', 'c'])   # 튜플 내에 리스트 자료구조가 들어올 수 있다\n",
    "\n",
    "#tuple1[0]=60    # 튜플은 데이터 변경 불가능 : 'tuple' object does not support item assignment\n",
    "#print(tuple1[0])\n",
    "\n",
    "def myfunc():\n",
    "  print('안녕하세요')\n",
    "  \n",
    "tuple4 = (10, 20, myfunc)     # list에 함수를 담을 수 있다 (C, java 모두 불가능)\n",
    "# list4[2]는 myfunc를 의미하고, myfunc()이다. 즉 myfunc을 호출하라는 의미이다.  \n",
    "tuple4[2]()       "
   ]
  },
  {
   "cell_type": "code",
   "execution_count": 6,
   "metadata": {},
   "outputs": [
    {
     "name": "stdout",
     "output_type": "stream",
     "text": [
      "장고 프레임워크는 어떤 프레임워크인가요\n",
      "장고에 대해서 알고 싶습니다.\n",
      "{'subject': '장고 프레임워크는 어떤 프레임워크인가요', 'content': '장고에 대해서 알고 싶습니다.'}\n"
     ]
    }
   ],
   "source": [
    "\"\"\"\n",
    "딕셔너리(dictionary) 자료구조 예제\n",
    "보통 dict로 표현한다. 키와 값을 하나의 요소로 가지는 구조이다. \n",
    "  순서가 중요하지 않다(순서를 유지하지 않는다). 인덱스 개념이 없다. \n",
    "  키에 의해서 가져오기 때문. 그러나, list/tuple은 순서를 유지한다.   \n",
    "\"\"\"\n",
    "\n",
    "# 장고 프레임워크에서 '질문/답변' 게시판 구현 시\n",
    "context = {'subject':'장고 프레임워크는 어떤 프레임워크인가요',\n",
    "          'content':'장고에 대해서 알고 싶습니다.'}\n",
    "\n",
    "# dictionary변수['키'] 하면 '키'에 해당하는 '값'을 얻어온다.\n",
    "print(context['subject']) \n",
    "print(context['content'])\n",
    "print(context)"
   ]
  },
  {
   "cell_type": "code",
   "execution_count": null,
   "metadata": {},
   "outputs": [],
   "source": []
  }
 ],
 "metadata": {
  "kernelspec": {
   "display_name": "Python 3",
   "language": "python",
   "name": "python3"
  },
  "language_info": {
   "codemirror_mode": {
    "name": "ipython",
    "version": 3
   },
   "file_extension": ".py",
   "mimetype": "text/x-python",
   "name": "python",
   "nbconvert_exporter": "python",
   "pygments_lexer": "ipython3",
   "version": "3.11.1"
  },
  "orig_nbformat": 4,
  "vscode": {
   "interpreter": {
    "hash": "91dabeee8cd0ae110cf9e22734bf0603305345bb1f6ed7dffb9247effdb13618"
   }
  }
 },
 "nbformat": 4,
 "nbformat_minor": 2
}
