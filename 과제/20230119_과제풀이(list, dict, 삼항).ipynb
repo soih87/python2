{
 "cells": [
  {
   "attachments": {},
   "cell_type": "markdown",
   "metadata": {},
   "source": [
    "언어에서 중요하게 공부할 부분 \n",
    "1. 자료형\n",
    "2. 연산자 \n",
    " . 단항연산자\n",
    " . 이항연산자\n",
    " . 삼항연산자\n",
    "3. 자료구조\n",
    "4. 제어문"
   ]
  },
  {
   "attachments": {},
   "cell_type": "markdown",
   "metadata": {},
   "source": [
    "[자바]\n",
    "변수는 메모리의 그릇이라고 생각할 것. \n",
    "\n",
    "int a=10;   # = (할당연산자) == (비교연산자)\n",
    "a++;        # 1증가 연산자 : 10에서 11로 변경 / ++ : 단항연산자 (연산에 사용되는 항이 1개인 연산자)\n",
    "\n",
    "int a=10;\n",
    "int b=20;\n",
    "int c=a+b;  # 이항 연산자 (a, b)\n",
    "\n",
    "            # 삼항 연산자 : 항 3개를 사용 : if ~ else를 대신한다. \n",
    "int 변수 = <조건식> 항1 ? <참> 항2 : <거짓> 항3; \n",
    "\n",
    "if <조건> {\n",
    "\n",
    "}\n",
    "else {\n",
    "\n",
    "}"
   ]
  },
  {
   "attachments": {},
   "cell_type": "markdown",
   "metadata": {},
   "source": [
    "삼항 연산자\n",
    "\n",
    "[자바] 자료형 변수 = (조건식) ? 항2 : 항3;  \n",
    "    => (조건식)이 참이면 항2를 변수에 할당하고, 거깃이면 항3를 변수에 할당한다. \n",
    "    => 삼항 연산자를 사용하면 장점이 if ~ else문을 대신할 수 있다.\n",
    "\n",
    "(예) \n",
    "    int math = 70;\n",
    "\n",
    "    String grade = (math >= 60) ? \"pass\" : \"fail\";\n",
    "    System.out.println(math + \" is \" + grade);\n",
    "\n",
    "[파이썬] (참인 경우의 값) if (조건식) else (거짓인 경우의 값)\n",
    "\n",
    "(예)\n",
    "    math = 70\n",
    "    grade = \"pass\" if math >= 60 else \"fail\""
   ]
  },
  {
   "cell_type": "code",
   "execution_count": null,
   "metadata": {},
   "outputs": [],
   "source": [
    "\"\"\"\n",
    "[과제] 키보드로부터 금액을 입력받아 각 화폐 단위로 출력하기\n",
    "\t\t\t(단, for문, if문 즉 제어문을 활용하여 해결한다.)\n",
    "\t\t\t자료구조를 리스트(list)로 해결\n",
    "\"\"\"\n",
    "\n",
    "money = int(input('금액을 입력하세요: '))  # 76790 가정\n",
    "\n",
    "list_money = [50000, 10000, 5000, 1000, 500, 100, 50, 10]\n",
    "list_str_money = ['오만원권', '만원권', '오천원권', '천원권', '오백원', '백원', '오십원', '십원']\n",
    "\n",
    "# 제어문(for문, if문)을 활용하여 주어진 문제를 해결한다.\n",
    "# 리스트, 튜플은 순서가 있고, 인덱스는 0부터 시작한다.\n",
    "\n",
    "for i in range(0, 8):  # 0부터 8미만까지 즉, 0 1 2 3 4 5 6 7\n",
    "# divmod : 몫과 나머지를 동시에 구하는 함수\n",
    "\tportion, remainder = divmod(money, list_money[i]) \n",
    "\tmoney = remainder \n",
    "\tif portion > 0 and i < 4:\n",
    "\t\tprint(list_str_money[i]+' '+str(portion)+'매')\n",
    "\telif portion > 0 and i >= 4:\t\t\n",
    "\t\tprint(list_str_money[i]+' '+str(portion)+'개')\n",
    "  "
   ]
  },
  {
   "cell_type": "code",
   "execution_count": 2,
   "metadata": {},
   "outputs": [
    {
     "name": "stdout",
     "output_type": "stream",
     "text": [
      "오만원권 1 매\n",
      "오천원권 1 매\n",
      "천원권 1 매\n",
      "오백원 1 개\n",
      "백원 2 개\n",
      "오십원 1 개\n",
      "십원 3 개\n"
     ]
    }
   ],
   "source": [
    "\"\"\"\n",
    "[과제] 키보드로부터 금액을 입력받아 각 화폐 단위로 출력하기\n",
    "\t\t\t(단, for문, if문 즉 제어문을 활용하여 해결한다.)\n",
    "\t\t\t자료구조를 dict로 해결. dict의 items() 함수를 적용. \n",
    "      삼항 연산자도 적용하고 출력시 f-string 개념도 적용하여 작성한다.\n",
    "\"\"\"\n",
    "\n",
    "money=int(input('금액을 입력하세요: '))\n",
    "\n",
    "dict_money={'오만원권':50000, '만원권':10000, '오천원권':5000, '천원권':1000,\n",
    "            '오백원':500, '백원':100, '오십원':50, '십원':10}\n",
    "\n",
    "for key, value in dict_money.items():\n",
    "  portion = money // value    # 몫(//)\n",
    "  money = money % value       # 나머지(%)\n",
    "  \n",
    "  if portion == 0:\n",
    "    continue\n",
    "  \n",
    "  # 삼항 연산자 => (참인 경우의 값) if (조건식) else (거짓인 경우의 값)\n",
    "  print(f'{key} {portion} {\"매\" if key[-1]==\"권\" else \"개\"}')      \n"
   ]
  }
 ],
 "metadata": {
  "kernelspec": {
   "display_name": "Python 3",
   "language": "python",
   "name": "python3"
  },
  "language_info": {
   "codemirror_mode": {
    "name": "ipython",
    "version": 3
   },
   "file_extension": ".py",
   "mimetype": "text/x-python",
   "name": "python",
   "nbconvert_exporter": "python",
   "pygments_lexer": "ipython3",
   "version": "3.11.1 (tags/v3.11.1:a7a450f, Dec  6 2022, 19:58:39) [MSC v.1934 64 bit (AMD64)]"
  },
  "orig_nbformat": 4,
  "vscode": {
   "interpreter": {
    "hash": "91dabeee8cd0ae110cf9e22734bf0603305345bb1f6ed7dffb9247effdb13618"
   }
  }
 },
 "nbformat": 4,
 "nbformat_minor": 2
}
