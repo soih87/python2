{
 "cells": [
  {
   "attachments": {},
   "cell_type": "markdown",
   "metadata": {},
   "source": [
    "[과제 1]\n",
    "'A'라는 전자 회사 대리점의 1사분기 실적이 다음과 같다.\n",
    "1월 : 59870000\n",
    "2월 : 38580000\n",
    "3월 : 85000000\n",
    "\n",
    "데이터를 자료구조화할 것.\n",
    "파이썬 프로그램을 작성하여 판매실적 금액에 천단위마다 콤마(,)를 넣어 출력하도록 한다.\n",
    "[실행 결과]\n",
    "1월 판매실적 : 59,870,000\n",
    "2월 판매실적 : 38,580,000\n",
    "3월 판매실적 : 85,000,000"
   ]
  },
  {
   "cell_type": "code",
   "execution_count": 3,
   "metadata": {},
   "outputs": [
    {
     "name": "stdout",
     "output_type": "stream",
     "text": [
      "1월 판매실적 : 59,870,000\n",
      "2월 판매실적 : 38,580,000\n",
      "3월 판매실적 : 85,000,000\n"
     ]
    }
   ],
   "source": [
    "#[과제1]\n",
    "result = {1:59870000, 2:38580000, 3:85000000}\n",
    "\n",
    "for key, val in result.items():\n",
    "  print(f'{key}{\"월 판매실적 : \"}{val:,}' )"
   ]
  },
  {
   "attachments": {},
   "cell_type": "markdown",
   "metadata": {},
   "source": [
    "[과제2]\n",
    "자동 판매기 프로그램을 시뮬레이션하는 프로그램을 작성하세요.\n",
    "자동 판매기는 사용자로부터 투입된 금액과 상품을 입력받는다.\n",
    "상품값은 100원 단위로 가정한다. 프로그램은 잔돈을 계산하여 출력한다.\n",
    "자판기는 동전 500원, 100원 짜리만 가지고 있는 것을 가정한다.\n",
    "\n",
    "[실행결과]\n",
    "투입된 금액: 5000\n",
    "상품값: 2600 / 2700\n",
    "거스름 금액: 2400\n",
    "500원 동전의 개수: 4 / 4\n",
    "100원 동전의 개수: 4 / 3"
   ]
  },
  {
   "cell_type": "code",
   "execution_count": 8,
   "metadata": {},
   "outputs": [
    {
     "name": "stdout",
     "output_type": "stream",
     "text": [
      "거스름 금액: 300\n",
      "100원 동전의 개수: 3\n"
     ]
    }
   ],
   "source": [
    "#[과제2]\n",
    "while True:\n",
    "\n",
    "  money = int(input('투입된 금액: '))\n",
    "  product = int(input('상품값: '))\n",
    "\n",
    "  change = money - product\n",
    "  if change < 0 :\n",
    "    print('금액이 부족합니다.')\n",
    "    break\n",
    "  \n",
    "  print(f'거스름 금액: {change}')\n",
    "  if change == 0 :\n",
    "    break\n",
    "  \n",
    "  moneys = [500, 100]\n",
    "  for unit in moneys:\n",
    "    portion, change = divmod(change, unit)\n",
    "    if portion > 0 :\n",
    "      print(f'{unit}원 동전의 개수: {portion}')\n",
    "      \n",
    "  break  "
   ]
  }
 ],
 "metadata": {
  "kernelspec": {
   "display_name": "Python 3",
   "language": "python",
   "name": "python3"
  },
  "language_info": {
   "codemirror_mode": {
    "name": "ipython",
    "version": 3
   },
   "file_extension": ".py",
   "mimetype": "text/x-python",
   "name": "python",
   "nbconvert_exporter": "python",
   "pygments_lexer": "ipython3",
   "version": "3.11.1"
  },
  "orig_nbformat": 4,
  "vscode": {
   "interpreter": {
    "hash": "91dabeee8cd0ae110cf9e22734bf0603305345bb1f6ed7dffb9247effdb13618"
   }
  }
 },
 "nbformat": 4,
 "nbformat_minor": 2
}
