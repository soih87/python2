{
 "cells": [
  {
   "cell_type": "code",
   "execution_count": 7,
   "metadata": {},
   "outputs": [
    {
     "name": "stdout",
     "output_type": "stream",
     "text": [
      "오만원권 24 매\n",
      "만원권 3 매\n",
      "천원권 4 매\n",
      "오백원 1 개\n",
      "오십원 1 개\n",
      "십원 1 개\n",
      "일원 7 개\n"
     ]
    }
   ],
   "source": [
    "\"\"\"\n",
    "[과제1] \n",
    "키보드로부터 금액을 입력받아 \n",
    "금액을 입력해 주세요: 56790 입력하고 엔터 치면 아래와 같이 출력되도록 프로그램 작성하세요. \n",
    "(해당 화폐만 출력할 것)\n",
    " \n",
    "오만원권 1매 \n",
    "오천원권 1매\n",
    "천원권 1매\n",
    "오백원 1개\n",
    "백원 2개\n",
    "오십원 1개\n",
    "십원 4개\n",
    "\"\"\"\n",
    "\n",
    "moneys = [50000, 10000, 5000, 1000, 500, 100, 50, 10, 1]                                              #화폐 유형\n",
    "h_moneys = ['오만원권', '만원권', '오천원권', '천원권', '오백원', '백원', '오십원', '십원', '일원']   #화폐 유형(한글명)\n",
    "units = ['매', '매', '매', '매', '개', '개', '개', '개', '개']                                        #화폐 단위\n",
    "results = []        \n",
    "\n",
    "money = int(input(\"금액을 입력해 주세요: \"))      # 입력값 \n",
    "\n",
    "for x in moneys:                                 \n",
    "  share=money//x                                  # 입력값을 화폐 유형별로 몫 계산\n",
    "  results.append(share)                           # 몫을 결과값에 추가\n",
    "  money=money%x                                   # 나머지를 입력값으로 대입 \n",
    "  \n",
    "for i in range(9):\n",
    "  if results[i] !=0 :                             # 결과값이 있는 화폐 유형에 대해서만 출력\n",
    "    print(h_moneys[i], results[i], units[i])\n",
    "\n"
   ]
  },
  {
   "attachments": {},
   "cell_type": "markdown",
   "metadata": {},
   "source": [
    "오세연님 코드"
   ]
  },
  {
   "cell_type": "code",
   "execution_count": null,
   "metadata": {},
   "outputs": [],
   "source": [
    "print('과제 1\\n키보드로 부터 금액을 입력 받아 금액을 입력 받고 한국의 화폐의 종류에 따라 갯수를 출력하는 프로그램을 작성하시오.\\n')\n",
    "\n",
    "def asgmnt1():\n",
    "    while True:\n",
    "        try:\n",
    "            val = int(input('금액을 입력해 주세요: '))\n",
    "            currency = {50000:0,10000:0,5000:0,1000:0,500:0,100:0,50:0,10:0,5:0,1:0}\n",
    "            for money in currency:\n",
    "                currency[money] += val // money\n",
    "                val %= money\n",
    "            return f'오만원권 {currency[50000]}매\\n만원권 {currency[10000]} 매\\n오천원권 {currency[5000]}매\\n천원권 {currency[1000]}매\\n오백원 {currency[500]}개\\n백원 {currency[100]}개\\n오십원 {currency[50]}개\\n십원 {currency[10]}개\\n오원 {currency[5]}개\\n일원 {currency[1]}개'\n",
    "        except:\n",
    "            pass\n",
    "\n",
    "print(asgmnt1())"
   ]
  },
  {
   "cell_type": "code",
   "execution_count": 1,
   "metadata": {},
   "outputs": [
    {
     "name": "stdout",
     "output_type": "stream",
     "text": [
      "오만원권 1매\n",
      "오천원권 1매\n",
      "천원권 1매\n",
      "백원 1개\n",
      "일원 1개\n"
     ]
    }
   ],
   "source": [
    "money = int(input(\"금액을 입력하세요: \"))\n",
    "\n",
    "currency = [[50000,0],[10000,0], [5000,0],[1000,0],[500,0],[100,0],[50,0],[10,0],[5,0],[1,0]]\n",
    "won = ['오만원권', '만원권', '오천원권', '천원권', '오백원','백원','오십원','십원','오원','일원']\n",
    "\n",
    "for i in currency:\n",
    "  i[1]=money//i[0]\n",
    "  money %= i[0]\n",
    "\n",
    "for j in currency:\n",
    "  idx = currency.index(j)\n",
    "  if (j[1]>0) and (j[0]>=1000):\n",
    "    print(f'{won[idx]} {currency[idx][1]}매')\n",
    "  elif (j[1]>0) and (j[0]<1000):    \n",
    "    print(f'{won[idx]} {currency[idx][1]}개') \n",
    "    "
   ]
  }
 ],
 "metadata": {
  "kernelspec": {
   "display_name": "Python 3",
   "language": "python",
   "name": "python3"
  },
  "language_info": {
   "codemirror_mode": {
    "name": "ipython",
    "version": 3
   },
   "file_extension": ".py",
   "mimetype": "text/x-python",
   "name": "python",
   "nbconvert_exporter": "python",
   "pygments_lexer": "ipython3",
   "version": "3.11.1"
  },
  "orig_nbformat": 4,
  "vscode": {
   "interpreter": {
    "hash": "91dabeee8cd0ae110cf9e22734bf0603305345bb1f6ed7dffb9247effdb13618"
   }
  }
 },
 "nbformat": 4,
 "nbformat_minor": 2
}
