{
 "cells": [
  {
   "attachments": {},
   "cell_type": "markdown",
   "metadata": {},
   "source": [
    "* 고객 정보 관리 시스템 애플리케이션 (실행 화면) : 파이썬 80% 내용이 포함됨.\n",
    "\n",
    "메뉴 : File, Help\n",
    "File : 열기 | 저장                          --> 함수로 작성\n",
    "\n",
    "입력란 : \n",
    "\n",
    "기본정보 입력 : No | Name | Phone Number | Email\n",
    "이름 : \n",
    "전화번호: \n",
    "이메일\n",
    "\n",
    "전체보기 | 추가 | 이름 검색 | 수정 | 삭제   --> 함수로 작성\n",
    "\n",
    "* 프로젝트 계획서 \n",
    " -주제:\n",
    "\n",
    "* 분석 설계\n",
    "* DB 설계\n",
    "\n",
    "* 기본 프로젝트는 팀이 할 수 있는 실력 범위 내에서 작성한다. "
   ]
  },
  {
   "cell_type": "code",
   "execution_count": null,
   "metadata": {},
   "outputs": [],
   "source": []
  }
 ],
 "metadata": {
  "kernelspec": {
   "display_name": "Python 3",
   "language": "python",
   "name": "python3"
  },
  "language_info": {
   "name": "python",
   "version": "3.11.1 (tags/v3.11.1:a7a450f, Dec  6 2022, 19:58:39) [MSC v.1934 64 bit (AMD64)]"
  },
  "orig_nbformat": 4,
  "vscode": {
   "interpreter": {
    "hash": "91dabeee8cd0ae110cf9e22734bf0603305345bb1f6ed7dffb9247effdb13618"
   }
  }
 },
 "nbformat": 4,
 "nbformat_minor": 2
}
