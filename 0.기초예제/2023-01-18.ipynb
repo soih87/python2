{
 "cells": [
  {
   "cell_type": "code",
   "execution_count": null,
   "metadata": {},
   "outputs": [],
   "source": [
    "#변수명\n",
    "#첫문자는 _ 또는 영문자로 시작\n",
    "#변수명은 대소문자 구분 (a:65, A:97)\n",
    "#파이썬 예약어는 변수명으로 사용할 수 없다.\n",
    "import keyword\n",
    "keyword.kwlist   # 리스트 자료구조"
   ]
  },
  {
   "cell_type": "code",
   "execution_count": 1,
   "metadata": {},
   "outputs": [
    {
     "name": "stdout",
     "output_type": "stream",
     "text": [
      "파이썬 학습\n",
      "30\n"
     ]
    }
   ],
   "source": [
    "print('파이썬 학습')\n",
    "a=10\n",
    "b=20\n",
    "c=a+b\n",
    "print(c)"
   ]
  },
  {
   "cell_type": "code",
   "execution_count": 4,
   "metadata": {},
   "outputs": [
    {
     "name": "stdout",
     "output_type": "stream",
     "text": [
      "이름: 손흥민\n",
      "나이: 29\n",
      "100\n"
     ]
    }
   ],
   "source": [
    "\"\"\" \n",
    " 여러 라인 주석 : \" 3번 \n",
    "  \n",
    " 변수명 만들기\n",
    " 변수명 만들때 규칙\n",
    " (1) 예약어(키워드)는 변수명으로 불가\n",
    " (2) 변수명의 첫자는 영문이나 _(언더바)는 가능\n",
    "\"\"\"\n",
    "name='손흥민'\n",
    "age=29\n",
    "#for=50           # 예약어는 변수로 사용불가\n",
    "#5aaa=100         # 숫자로 시작하는 변수는 사용불가\n",
    "_aaa=100          # _로 시작하는 변수는 사용가능\n",
    "\n",
    "print('이름: %s' %(name))\n",
    "print('나이: %d' %(age))\n",
    "#print(for)\n",
    "#print(5aaa)\n",
    "print(_aaa)"
   ]
  },
  {
   "cell_type": "code",
   "execution_count": null,
   "metadata": {},
   "outputs": [],
   "source": [
    "\"\"\"\n",
    "  변수에 값을 대입\n",
    "\"\"\"\n",
    "\n",
    "number=10\n",
    "pi=3.14\n",
    "flag=True\n",
    "char='A'\n",
    "chars='I like Python'\n",
    "\n",
    "  "
   ]
  }
 ],
 "metadata": {
  "kernelspec": {
   "display_name": "Python 3",
   "language": "python",
   "name": "python3"
  },
  "language_info": {
   "codemirror_mode": {
    "name": "ipython",
    "version": 3
   },
   "file_extension": ".py",
   "mimetype": "text/x-python",
   "name": "python",
   "nbconvert_exporter": "python",
   "pygments_lexer": "ipython3",
   "version": "3.11.1"
  },
  "orig_nbformat": 4,
  "vscode": {
   "interpreter": {
    "hash": "91dabeee8cd0ae110cf9e22734bf0603305345bb1f6ed7dffb9247effdb13618"
   }
  }
 },
 "nbformat": 4,
 "nbformat_minor": 2
}
