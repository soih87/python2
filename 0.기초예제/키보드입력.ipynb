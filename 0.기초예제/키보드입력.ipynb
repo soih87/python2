{
 "cells": [
  {
   "cell_type": "code",
   "execution_count": 2,
   "metadata": {},
   "outputs": [],
   "source": [
    "\"\"\"\n",
    "키보드로부터 값 입력 받기\n",
    "\"\"\"\n",
    "money = int(input('금액을 입력해 주세요: '))  #중첩함수인 경우, 안쪽부터 수행 / 키보드로 입력받는 것은 모두 문자열"
   ]
  },
  {
   "cell_type": "code",
   "execution_count": 1,
   "metadata": {},
   "outputs": [
    {
     "data": {
      "text/plain": [
       "'23241'"
      ]
     },
     "execution_count": 1,
     "metadata": {},
     "output_type": "execute_result"
    }
   ],
   "source": [
    "money = input('금액을 입력하세요: ')\n",
    "money\n",
    "\n",
    "# money 값을 확인했을 때, ' '인 것은 문자형을 의미함.\n",
    "# input() 함수는 키보드로 숫자를 입력하면 정수가 아니라 '문자열'이다.\n",
    " "
   ]
  },
  {
   "cell_type": "code",
   "execution_count": null,
   "metadata": {},
   "outputs": [],
   "source": [
    "money = int(input('금액을 입력하세요: '))\n",
    "money\n",
    "\n",
    "# int() 함수는 문자열을 정수로 변환한다."
   ]
  }
 ],
 "metadata": {
  "kernelspec": {
   "display_name": "Python 3",
   "language": "python",
   "name": "python3"
  },
  "language_info": {
   "codemirror_mode": {
    "name": "ipython",
    "version": 3
   },
   "file_extension": ".py",
   "mimetype": "text/x-python",
   "name": "python",
   "nbconvert_exporter": "python",
   "pygments_lexer": "ipython3",
   "version": "3.11.1 (tags/v3.11.1:a7a450f, Dec  6 2022, 19:58:39) [MSC v.1934 64 bit (AMD64)]"
  },
  "orig_nbformat": 4,
  "vscode": {
   "interpreter": {
    "hash": "91dabeee8cd0ae110cf9e22734bf0603305345bb1f6ed7dffb9247effdb13618"
   }
  }
 },
 "nbformat": 4,
 "nbformat_minor": 2
}
