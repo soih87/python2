{
 "cells": [
  {
   "cell_type": "code",
   "execution_count": 1,
   "metadata": {},
   "outputs": [
    {
     "data": {
      "text/plain": [
       "[1, 2, 3]"
      ]
     },
     "execution_count": 1,
     "metadata": {},
     "output_type": "execute_result"
    }
   ],
   "source": [
    "a = [1,2,3]\n",
    "a"
   ]
  },
  {
   "cell_type": "code",
   "execution_count": 5,
   "metadata": {},
   "outputs": [
    {
     "data": {
      "text/plain": [
       "'a'"
      ]
     },
     "execution_count": 5,
     "metadata": {},
     "output_type": "execute_result"
    }
   ],
   "source": [
    "a = [1,2,3,['a','b','c']]\n",
    "a[0]\n",
    "a[-1]\n",
    "a[3]\n",
    "a[-1][0]"
   ]
  },
  {
   "cell_type": "code",
   "execution_count": 6,
   "metadata": {},
   "outputs": [
    {
     "data": {
      "text/plain": [
       "'Life'"
      ]
     },
     "execution_count": 6,
     "metadata": {},
     "output_type": "execute_result"
    }
   ],
   "source": [
    "a = [1,2,['a','b',['Life', 'is']]]\n",
    "\n",
    "a[2][2][0]"
   ]
  },
  {
   "cell_type": "code",
   "execution_count": 10,
   "metadata": {},
   "outputs": [
    {
     "data": {
      "text/plain": [
       "[3, 4, 5]"
      ]
     },
     "execution_count": 10,
     "metadata": {},
     "output_type": "execute_result"
    }
   ],
   "source": [
    "#리스트의 슬라이싱\n",
    "\n",
    "a = [1,2,3,4,5]\n",
    "a[0:2]\n",
    "\n",
    "a = \"12345\"\n",
    "a[0:2]\n",
    "\n",
    "a = [1,2,3,4,5]\n",
    "b = a[:2]\n",
    "c = a[2:]\n",
    "b\n",
    "c"
   ]
  },
  {
   "cell_type": "code",
   "execution_count": 11,
   "metadata": {},
   "outputs": [
    {
     "data": {
      "text/plain": [
       "[1, 2, 3, 4, 5, 6]"
      ]
     },
     "execution_count": 11,
     "metadata": {},
     "output_type": "execute_result"
    }
   ],
   "source": [
    "#리스트 더하기 (+): 2개의 리스트를 합친다. \"abc\"+\"def\"=\"abcdef\"\n",
    "\n",
    "a = [1,2,3]\n",
    "b = [4,5,6]\n",
    "a+b"
   ]
  },
  {
   "cell_type": "code",
   "execution_count": 12,
   "metadata": {},
   "outputs": [
    {
     "data": {
      "text/plain": [
       "[1, 2, 3, 1, 2, 3, 1, 2, 3]"
      ]
     },
     "execution_count": 12,
     "metadata": {},
     "output_type": "execute_result"
    }
   ],
   "source": [
    "#리스트 반복하기 (*) : \"abc\"*3 => \"abcabcabc\"\n",
    "a=[1,2,3]\n",
    "a*3"
   ]
  },
  {
   "cell_type": "code",
   "execution_count": 13,
   "metadata": {},
   "outputs": [
    {
     "data": {
      "text/plain": [
       "3"
      ]
     },
     "execution_count": 13,
     "metadata": {},
     "output_type": "execute_result"
    }
   ],
   "source": [
    "#리스트 길이\n",
    "a = [1,2,3]\n",
    "len(a)"
   ]
  },
  {
   "cell_type": "code",
   "execution_count": 14,
   "metadata": {},
   "outputs": [
    {
     "data": {
      "text/plain": [
       "[1, 2, 4]"
      ]
     },
     "execution_count": 14,
     "metadata": {},
     "output_type": "execute_result"
    }
   ],
   "source": [
    "#리스트에서 값 수정하기\n",
    "a = [1,2,3]\n",
    "a[2]=4\n",
    "a"
   ]
  },
  {
   "cell_type": "code",
   "execution_count": 16,
   "metadata": {},
   "outputs": [
    {
     "data": {
      "text/plain": [
       "[1, 3]"
      ]
     },
     "execution_count": 16,
     "metadata": {},
     "output_type": "execute_result"
    }
   ],
   "source": [
    "#리스트 요소 삭제하기 (del함수 이용) : del 객체\n",
    "a = [1,2,3]\n",
    "del a[1]\n",
    "a"
   ]
  },
  {
   "cell_type": "code",
   "execution_count": 17,
   "metadata": {},
   "outputs": [
    {
     "data": {
      "text/plain": [
       "[1, 2]"
      ]
     },
     "execution_count": 17,
     "metadata": {},
     "output_type": "execute_result"
    }
   ],
   "source": [
    "a = [1,2,3,4,5]\n",
    "del a[2:]\n",
    "a"
   ]
  },
  {
   "cell_type": "code",
   "execution_count": 19,
   "metadata": {},
   "outputs": [
    {
     "data": {
      "text/plain": [
       "[1, 2, 3, 4, [5, 6]]"
      ]
     },
     "execution_count": 19,
     "metadata": {},
     "output_type": "execute_result"
    }
   ],
   "source": [
    "#리스트에 요소 추가 (append) \n",
    "a = [1,2,3]\n",
    "a.append(4)\n",
    "a\n",
    "a.append([5,6])     #어떤 자료형도 추가할 수 있다.\n",
    "a"
   ]
  },
  {
   "cell_type": "code",
   "execution_count": 20,
   "metadata": {},
   "outputs": [
    {
     "data": {
      "text/plain": [
       "[1, 2, 3, 4]"
      ]
     },
     "execution_count": 20,
     "metadata": {},
     "output_type": "execute_result"
    }
   ],
   "source": [
    "#리스트 정렬 (sort)\n",
    "a = [1,4,3,2]\n",
    "a.sort()\n",
    "a"
   ]
  },
  {
   "cell_type": "code",
   "execution_count": 21,
   "metadata": {},
   "outputs": [
    {
     "data": {
      "text/plain": [
       "['a', 'b', 'c']"
      ]
     },
     "execution_count": 21,
     "metadata": {},
     "output_type": "execute_result"
    }
   ],
   "source": [
    "a = ['a','c','b']\n",
    "a.sort()\n",
    "a"
   ]
  },
  {
   "cell_type": "code",
   "execution_count": 22,
   "metadata": {},
   "outputs": [
    {
     "data": {
      "text/plain": [
       "['b', 'c', 'a']"
      ]
     },
     "execution_count": 22,
     "metadata": {},
     "output_type": "execute_result"
    }
   ],
   "source": [
    "#리스트 뒤집기 (reverse) : 리스트를 역순으로 뒤집는다.\n",
    "#정렬후 역순으로 정렬하는 것이 아님\n",
    "#현재의 리스트를 그대로 거꾸로 뒤집는다\n",
    "a = ['a','c','b']\n",
    "a.reverse()\n",
    "a"
   ]
  },
  {
   "cell_type": "code",
   "execution_count": 25,
   "metadata": {},
   "outputs": [
    {
     "ename": "ValueError",
     "evalue": "0 is not in list",
     "output_type": "error",
     "traceback": [
      "\u001b[1;31m---------------------------------------------------------------------------\u001b[0m",
      "\u001b[1;31mValueError\u001b[0m                                Traceback (most recent call last)",
      "Cell \u001b[1;32mIn[25], line 5\u001b[0m\n\u001b[0;32m      3\u001b[0m a\u001b[39m.\u001b[39mindex(\u001b[39m3\u001b[39m)\n\u001b[0;32m      4\u001b[0m a\u001b[39m.\u001b[39mindex(\u001b[39m1\u001b[39m)\n\u001b[1;32m----> 5\u001b[0m a\u001b[39m.\u001b[39;49mindex(\u001b[39m0\u001b[39;49m)\n",
      "\u001b[1;31mValueError\u001b[0m: 0 is not in list"
     ]
    }
   ],
   "source": [
    "#인덱스 반환 (index)\n",
    "a = [1, 2, 3]\n",
    "a.index(3)\n",
    "a.index(1)\n",
    "a.index(0)    # 값 0은 a리스트에 존재하지 않기 때문에 값 오류(ValueError) 발생"
   ]
  },
  {
   "cell_type": "code",
   "execution_count": 28,
   "metadata": {},
   "outputs": [
    {
     "data": {
      "text/plain": [
       "[4, 1, 2, 5, 3]"
      ]
     },
     "execution_count": 28,
     "metadata": {},
     "output_type": "execute_result"
    }
   ],
   "source": [
    "#리스트에 요소 삽입 (insert) \n",
    "#insert(a, b) : a번 위치에 b를 삽입\n",
    "a = [1,2,3]\n",
    "a.insert(0,4)   #0번째 자리, 즉 첫번째 요소(a[0]) 위치에 값 4를 삽입\n",
    "a.insert(3,5)\n",
    "a"
   ]
  },
  {
   "cell_type": "code",
   "execution_count": 30,
   "metadata": {},
   "outputs": [
    {
     "data": {
      "text/plain": [
       "[1, 2, 1, 2]"
      ]
     },
     "execution_count": 30,
     "metadata": {},
     "output_type": "execute_result"
    }
   ],
   "source": [
    "#리스트 요소 제거 (remove)\n",
    "#remove(x) : 리스트에서 첫번째로 나오는 x를 삭제하는 함수\n",
    "a = [1,2,3,1,2,3]\n",
    "a.remove(3)\n",
    "a\n",
    "a.remove(3)\n",
    "a"
   ]
  },
  {
   "cell_type": "code",
   "execution_count": 32,
   "metadata": {},
   "outputs": [
    {
     "data": {
      "text/plain": [
       "[1, 3]"
      ]
     },
     "execution_count": 32,
     "metadata": {},
     "output_type": "execute_result"
    }
   ],
   "source": [
    "#리스트 요소 끄집어내기 (pop) : 리스트의 맨 마지막 요소를 리턴하고 그 요소를 삭제\n",
    "a = [1,2,3]\n",
    "a.pop()\n",
    "a\n",
    "\n",
    "#pop(x) : 리스트의 x번째 요소를 리턴하고 그 요소를 삭제한다.\n",
    "a = [1,2,3]\n",
    "a.pop(1)    # a[1] 값을 끄집어내어 리턴\n",
    "a"
   ]
  },
  {
   "cell_type": "code",
   "execution_count": 33,
   "metadata": {},
   "outputs": [
    {
     "data": {
      "text/plain": [
       "2"
      ]
     },
     "execution_count": 33,
     "metadata": {},
     "output_type": "execute_result"
    }
   ],
   "source": [
    "#리스트에 포함된 요소 x의 개수 세기 (count)\n",
    "a = [1,2,3,1]\n",
    "a.count(1)"
   ]
  },
  {
   "cell_type": "code",
   "execution_count": 35,
   "metadata": {},
   "outputs": [
    {
     "data": {
      "text/plain": [
       "[1, 2, 3, 4, 5, 6, 7]"
      ]
     },
     "execution_count": 35,
     "metadata": {},
     "output_type": "execute_result"
    }
   ],
   "source": [
    "#리스트 확장 (extend)\n",
    "#extend(x) : x에는 리스트만 올 수 있으며 원래의 a리스트에 x리스트를 더하게 된다\n",
    "#a.extend([4,5])는 a += [4,5]와 동일하다.\n",
    "a = [1,2,3]\n",
    "a.extend([4,5])\n",
    "a\n",
    "b = [6,7]\n",
    "a.extend(b)\n",
    "a"
   ]
  }
 ],
 "metadata": {
  "kernelspec": {
   "display_name": "Python 3",
   "language": "python",
   "name": "python3"
  },
  "language_info": {
   "codemirror_mode": {
    "name": "ipython",
    "version": 3
   },
   "file_extension": ".py",
   "mimetype": "text/x-python",
   "name": "python",
   "nbconvert_exporter": "python",
   "pygments_lexer": "ipython3",
   "version": "3.11.1 (tags/v3.11.1:a7a450f, Dec  6 2022, 19:58:39) [MSC v.1934 64 bit (AMD64)]"
  },
  "orig_nbformat": 4,
  "vscode": {
   "interpreter": {
    "hash": "91dabeee8cd0ae110cf9e22734bf0603305345bb1f6ed7dffb9247effdb13618"
   }
  }
 },
 "nbformat": 4,
 "nbformat_minor": 2
}
