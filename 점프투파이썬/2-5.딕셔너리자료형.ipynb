{
 "cells": [
  {
   "attachments": {},
   "cell_type": "markdown",
   "metadata": {},
   "source": [
    "딕셔너리\n",
    "-연관 배열(Associative array), 해시(Hash)\n",
    "-Key와 Value를 한 쌍으로 갖는 자료형.\n",
    "-리스트나 튜플처럼 순차적으로 해당 요소값을 구하지 않고 Key를 통해 Value를 얻는다.\n",
    "-immutable(불변)한 Key와 mutable(변하기쉬운)한 Value로 매핑되어 있는 순서가 없는 집합\n",
    " Key로는 immutable한 값을 사용할 수 있지만, mutable한 객체는 사용할 수 없다.\n",
    "\n",
    "{Key1:Value1, Key2:Value2, Key3:Value3, ...}\n",
    "\n",
    "-요소값을 얻고자 할 때\n",
    " 리스트나 튜플, 문자열: 인덱싱, 슬라이싱 사용\n",
    " 딕셔너리: Key를 사용해서 Value를 구한다. 딕셔너리변수이름[Key]\n",
    "\n",
    "-주의사항\n",
    " Key는 고유한 값이므로 중복되는 Key값을 설정해 놓으면 하나를 제외한 나머지 것들이 모두 무시된다. Key를 통해 Value를 얻는 딕셔너리 특징에 의해 동일한 Key가 존재하면 어떤 Key에 해당하는 Value를 불러야할지 알수 없기 때문이다.\n",
    " Key에 리스트를 쓸 수 없다. 하지만 튜플은 Key로 쓸 수 있다. 리스트는 값이 변할 수 있기 때문에 Key로 사용할 수 없다.\n",
    "\n",
    " https://wikidocs.net/16043#6-dictionary-for"
   ]
  },
  {
   "cell_type": "code",
   "execution_count": 16,
   "metadata": {},
   "outputs": [
    {
     "ename": "TypeError",
     "evalue": "unhashable type: 'dict'",
     "output_type": "error",
     "traceback": [
      "\u001b[1;31m---------------------------------------------------------------------------\u001b[0m",
      "\u001b[1;31mTypeError\u001b[0m                                 Traceback (most recent call last)",
      "Cell \u001b[1;32mIn[16], line 14\u001b[0m\n\u001b[0;32m      9\u001b[0m a\n\u001b[0;32m     11\u001b[0m \u001b[39m#mutable 예\u001b[39;00m\n\u001b[0;32m     12\u001b[0m \u001b[39m#a = {{1,3}:5, {3,5}:3}    #set 사용 에러\u001b[39;00m\n\u001b[0;32m     13\u001b[0m \u001b[39m#a = {[1,3]:5, [3,5]:3}    #list 사용 에러\u001b[39;00m\n\u001b[1;32m---> 14\u001b[0m a \u001b[39m=\u001b[39m {{\u001b[39m\"\u001b[39m\u001b[39ma\u001b[39m\u001b[39m\"\u001b[39m:\u001b[39m1\u001b[39m}:\u001b[39m5\u001b[39m, \u001b[39m\"\u001b[39m\u001b[39mabc\u001b[39m\u001b[39m\"\u001b[39m:\u001b[39m3\u001b[39m}   \u001b[39m#dict 사용 에러\u001b[39;00m\n",
      "\u001b[1;31mTypeError\u001b[0m: unhashable type: 'dict'"
     ]
    }
   ],
   "source": [
    "#immutable 예\n",
    "a = {1:5, 2:3}  #int 사용\n",
    "a\n",
    "a = {(1, 5):5, (3, 3):3}  #tuple 사용\n",
    "a\n",
    "a = {3.6:5, \"abc\":3}      #float 사용\n",
    "a\n",
    "a = {True:5, \"abc\":3}     #bool 사용\n",
    "a\n",
    "\n",
    "#mutable 예\n",
    "#a = {{1,3}:5, {3,5}:3}    #set 사용 에러\n",
    "#a = {[1,3]:5, [3,5]:3}    #list 사용 에러\n",
    "a = {{\"a\":1}:5, \"abc\":3}   #dict 사용 에러\n"
   ]
  },
  {
   "cell_type": "code",
   "execution_count": 20,
   "metadata": {},
   "outputs": [
    {
     "data": {
      "text/plain": [
       "{'abc': 5, 'def': 2, 'ghi': 999}"
      ]
     },
     "execution_count": 20,
     "metadata": {},
     "output_type": "execute_result"
    }
   ],
   "source": [
    "#순서가 없기 때문에 인덱스로는 접근할 수 없고, 키로 접근할 수 있다.\n",
    "d = {'abc':1, 'def':2}\n",
    "#d[0]         #KeyError\n",
    "d['abc']\n",
    "\n",
    "#mutable한 객체이므로 키로 접근하여 값을 변경할 수 있다.\n",
    "d['abc']=5\n",
    "d\n",
    "\n",
    "#새로운 키와 값을 아래와 같이 추가할 수 있다.\n",
    "d['ghi']=999\n",
    "d"
   ]
  },
  {
   "cell_type": "code",
   "execution_count": 23,
   "metadata": {},
   "outputs": [
    {
     "data": {
      "text/plain": [
       "{'alice': 5, 'bob': 20, 'tony': 15, 'suzy': 30}"
      ]
     },
     "execution_count": 23,
     "metadata": {},
     "output_type": "execute_result"
    }
   ],
   "source": [
    "#딕셔너리 선언 : 빈 중괄호 \n",
    "#set도 중괄호를 이용하지만 빈 중괄호로 선언하면 type이 dict가 된다.\n",
    "e={}\n",
    "type(e)\n",
    "\n",
    "#딕셔너리를 명시적으로 선언할 수 있다.\n",
    "f=dict()\n",
    "type(f)\n",
    "\n",
    "#dict constructor를 통해서 키와 값을 할당하며 선언할 수 있다.\n",
    "newdict = dict(alice=5, bob=20, tony=15, suzy=30)\n",
    "newdict"
   ]
  },
  {
   "cell_type": "code",
   "execution_count": 27,
   "metadata": {},
   "outputs": [
    {
     "data": {
      "text/plain": [
       "{'alice': 5, 'Bob': 13}"
      ]
     },
     "execution_count": 27,
     "metadata": {},
     "output_type": "execute_result"
    }
   ],
   "source": [
    "#딕셔너리 변환\n",
    "#리스트 속에 리스트나 튜플, 튜플 속에 리스트나 튜플 값을 Key와 Value를 나란히 입력하면 dict로 변형할 수 있다.\n",
    "name_and_ages = [['alilce',5], ['Bob',13]]\n",
    "dict(name_and_ages)\n",
    "\n",
    "name_and_ages = [('alice',5), ('Bob',13)]\n",
    "dict(name_and_ages)\n",
    "\n",
    "name_and_ages = (('alice',5), ('Bob',13))\n",
    "dict(name_and_ages)\n",
    "\n",
    "name_and_ages = (['alice',5], ['Bob',13])\n",
    "dict(name_and_ages)"
   ]
  },
  {
   "cell_type": "code",
   "execution_count": 37,
   "metadata": {},
   "outputs": [
    {
     "data": {
      "text/plain": [
       "{'alice': [1, 2, 3], 'bob': 20, 'tony': 15, 'suzy': 30}"
      ]
     },
     "execution_count": 37,
     "metadata": {},
     "output_type": "execute_result"
    }
   ],
   "source": [
    "#딕셔너리 복사\n",
    "#얕은 복사(shallow copy) 1\n",
    "a = {'alice':[1,2,3], 'bob':30, 'tony':15, 'suzy':30}\n",
    "b = a.copy()\n",
    "b['alice'].append(5)\n",
    "b\n",
    "#{'alice': [1, 2, 3, 5], 'bob': 20, 'tony': 15, 'suzy': 30}\n",
    "a\n",
    "#{'alice': [1, 2, 3, 5], 'bob': 20, 'tony': 15, 'suzy': 30}\n",
    "\n",
    "#얕은 복사(shallow copy) 2\n",
    "a = {'alice':[1,2,3], 'bob':30, 'tony':15, 'suzy':30}\n",
    "b = dict(a)\n",
    "a\n",
    "#{'alice': [1, 2, 3], 'bob': 20, 'tony': 15, 'suzy': 30}\n",
    "b\n",
    "#{'alice': [1, 2, 3], 'bob': 20, 'tony': 15, 'suzy': 30}\n",
    "id(a)\n",
    "id(b)\n",
    "\n",
    "#깊은 복사(deep copy)\n",
    "import copy\n",
    "a = {'alice':[1,2,3], 'bob':20, 'tony':15, 'suzy':30}\n",
    "b = copy.deepcopy(a)\n",
    "b['alice'].append(5)\n",
    "b\n",
    "#{'alice': [1, 2, 3, 5], 'bob': 20, 'tony': 15, 'suzy': 30}\n",
    "a\n",
    "#{'alice': [1, 2, 3], 'bob': 20, 'tony': 15, 'suzy': 30}"
   ]
  },
  {
   "cell_type": "code",
   "execution_count": 39,
   "metadata": {},
   "outputs": [
    {
     "data": {
      "text/plain": [
       "{'alice': [1, 2, 3], 'bob': 99, 'tony': 99, 'suzy': 30, 'kim': 30}"
      ]
     },
     "execution_count": 39,
     "metadata": {},
     "output_type": "execute_result"
    }
   ],
   "source": [
    "#딕셔너리 수정\n",
    "#단일 수정은 키로 접근하여 값을 할당한다.\n",
    "a = {'alice':[1,2,3], 'bob':20, 'tony':15, 'suzy':30}\n",
    "a['alice']=5\n",
    "a\n",
    "\n",
    "#여러값 수정은 update 메소드를 사용한다. 키가 없는 값이면 추가된다.\n",
    "a = {'alice':[1,2,3], 'bob':20, 'tony':15, 'suzy':30}\n",
    "a.update({'bob':99, 'tony':99, 'kim':30})\n",
    "a"
   ]
  },
  {
   "cell_type": "code",
   "execution_count": 3,
   "metadata": {},
   "outputs": [
    {
     "data": {
      "text/plain": [
       "{1: 'a', 2: 'b', 'name': 'pey', 3: [1, 2, 3]}"
      ]
     },
     "execution_count": 3,
     "metadata": {},
     "output_type": "execute_result"
    }
   ],
   "source": [
    "#딕셔너리 쌍 추가\n",
    "a = {1:'a'}\n",
    "a[2]='b'\n",
    "a\n",
    "\n",
    "a['name']='pey'\n",
    "a\n",
    "\n",
    "a[3]=[1,2,3]\n",
    "a"
   ]
  },
  {
   "cell_type": "code",
   "execution_count": 4,
   "metadata": {},
   "outputs": [
    {
     "data": {
      "text/plain": [
       "{2: 'b', 'name': 'pey', 3: [1, 2, 3]}"
      ]
     },
     "execution_count": 4,
     "metadata": {},
     "output_type": "execute_result"
    }
   ],
   "source": [
    "#딕셔너리 요소 삭제하기 : del a[key] - key에 해당하는 {key:value}쌍이 삭제\n",
    "del a[1]\n",
    "a"
   ]
  },
  {
   "cell_type": "code",
   "execution_count": 12,
   "metadata": {},
   "outputs": [
    {
     "data": {
      "text/plain": [
       "'1118'"
      ]
     },
     "execution_count": 12,
     "metadata": {},
     "output_type": "execute_result"
    }
   ],
   "source": [
    "#딕셔너리에서 Key 사용해 Value 얻기\n",
    "grade = {'pey':10, 'julliet':99}\n",
    "grade['pey']\n",
    "grade['julliet']\n",
    "\n",
    "a = {1:'a', 2:'b'}\n",
    "a[1]                # 1은 두번째 요소가 아니라, Key에 해당하는 1을 나타냄\n",
    "a[2]\n",
    "\n",
    "a = {'a':1, 'b':2}\n",
    "a['a']\n",
    "a['b']\n",
    "\n",
    "dic = {'name':'pey', 'phone':'010-9999-1234', 'birth':'1118'}\n",
    "dic['name']\n",
    "dic['phone']\n",
    "dic['birth']"
   ]
  },
  {
   "cell_type": "code",
   "execution_count": 14,
   "metadata": {},
   "outputs": [
    {
     "ename": "TypeError",
     "evalue": "unhashable type: 'list'",
     "output_type": "error",
     "traceback": [
      "\u001b[1;31m---------------------------------------------------------------------------\u001b[0m",
      "\u001b[1;31mTypeError\u001b[0m                                 Traceback (most recent call last)",
      "Cell \u001b[1;32mIn[14], line 4\u001b[0m\n\u001b[0;32m      1\u001b[0m a \u001b[39m=\u001b[39m {\u001b[39m1\u001b[39m:\u001b[39m'\u001b[39m\u001b[39ma\u001b[39m\u001b[39m'\u001b[39m, \u001b[39m1\u001b[39m:\u001b[39m'\u001b[39m\u001b[39mb\u001b[39m\u001b[39m'\u001b[39m}\n\u001b[0;32m      2\u001b[0m a\n\u001b[1;32m----> 4\u001b[0m a \u001b[39m=\u001b[39m {[\u001b[39m1\u001b[39m,\u001b[39m2\u001b[39m]:\u001b[39m'\u001b[39m\u001b[39mhi\u001b[39m\u001b[39m'\u001b[39m}\n",
      "\u001b[1;31mTypeError\u001b[0m: unhashable type: 'list'"
     ]
    }
   ],
   "source": [
    "#딕셔너리 만들 때 주의사항\n",
    "#중복되는 Key값을 설정하면 하나를 제외한 나머지는 무시된다.\n",
    "#값은 중복될 수 있지만, 키가 중복되면 마지막 값으로 덮어씌워진다.\n",
    "a = {1:'a', 1:'b'}\n",
    "a\n",
    "\n",
    "#Key에 리스트를 쓸 수 없다.\n",
    "a = {[1,2]:'hi'}\n"
   ]
  },
  {
   "attachments": {},
   "cell_type": "markdown",
   "metadata": {},
   "source": [
    "딕셔너리 관련 함수들"
   ]
  },
  {
   "cell_type": "code",
   "execution_count": 40,
   "metadata": {},
   "outputs": [
    {
     "data": {
      "text/plain": [
       "['name', 'phone', 'birth']"
      ]
     },
     "execution_count": 40,
     "metadata": {},
     "output_type": "execute_result"
    }
   ],
   "source": [
    "#Key 리스트 만들기 (Keys)\n",
    "#a.keys() : 딕셔너리 a의 Key만을 모아서 dict_keys 객체를 리턴한다.\n",
    "#dict_keys, dict_values, dict_items : 파이썬 3.0 이후 버전에서 추가\n",
    "#위 3개체는 리스트로 변환하지 않더라도 기본적인 반복구문(예:for문)에서 사용할 수 있다.\n",
    "\n",
    "a = {'name':'pey', 'phone':'010-9999-1234', 'birth':'1118'}\n",
    "a.keys()\n",
    "\n",
    "#3.0 이후 버전에서 리턴값으로 리트스가 필요시, list(a.keys()) 사용\n",
    "\n",
    "#dict_keys 객체를 리스트로 변환한다\n",
    "list(a.keys())"
   ]
  },
  {
   "cell_type": "code",
   "execution_count": 41,
   "metadata": {},
   "outputs": [
    {
     "data": {
      "text/plain": [
       "dict_values(['pey', '010-9999-1234', '1118'])"
      ]
     },
     "execution_count": 41,
     "metadata": {},
     "output_type": "execute_result"
    }
   ],
   "source": [
    "#Value 리스트 만들기\n",
    "a.values()"
   ]
  },
  {
   "cell_type": "code",
   "execution_count": 42,
   "metadata": {},
   "outputs": [
    {
     "data": {
      "text/plain": [
       "dict_items([('name', 'pey'), ('phone', '010-9999-1234'), ('birth', '1118')])"
      ]
     },
     "execution_count": 42,
     "metadata": {},
     "output_type": "execute_result"
    }
   ],
   "source": [
    "#Key, Value 쌍 얻기 (items)\n",
    "#items 함수는 Key와 Value의 쌍을 튜플로 묶은 값을 dict_items 객체로 돌려준다.\n",
    "a.items()"
   ]
  },
  {
   "cell_type": "code",
   "execution_count": 43,
   "metadata": {},
   "outputs": [
    {
     "data": {
      "text/plain": [
       "{}"
      ]
     },
     "execution_count": 43,
     "metadata": {},
     "output_type": "execute_result"
    }
   ],
   "source": [
    "#Key, Value 쌍 모두 지우기 (clear)\n",
    "#clear 함수는 딕셔너리 안의 모든 요소를 삭제한다. 빈 딕셔너리 {}\n",
    "a.clear()\n",
    "a"
   ]
  },
  {
   "cell_type": "code",
   "execution_count": 45,
   "metadata": {},
   "outputs": [
    {
     "data": {
      "text/plain": [
       "'010-9999-1234'"
      ]
     },
     "execution_count": 45,
     "metadata": {},
     "output_type": "execute_result"
    }
   ],
   "source": [
    "#Key로 Value 얻기 (get)\n",
    "a = {'name':'pey', 'phone':'010-9999-1234', 'birth':'1118'}\n",
    "a.get('name')\n",
    "a.get('phone')\n",
    "\n",
    "#a['nokey']     # 딕셔너리에 존재하지 않는 Key로 값을 가져오려고 한 경우, 오류 발생\n",
    "a.get('nokey')  # None을 리턴. None은 \"거짓\"이라는 뜻이다.\n"
   ]
  },
  {
   "cell_type": "code",
   "execution_count": 1,
   "metadata": {},
   "outputs": [
    {
     "name": "stdout",
     "output_type": "stream",
     "text": [
      "alice\n",
      "bob\n",
      "tony\n",
      "suzy\n"
     ]
    }
   ],
   "source": [
    "#딕셔너리의 for문 \n",
    "#딕셔너리를 for문을 돌리면 key값이 할당된다.\n",
    "#순서는 임의적이다. 같은 순서를 보장할 수 없다.\n",
    "\n",
    "a = {'alice':[1,2,3], 'bob':20, 'tony':15, 'suzy':30}\n",
    "for key in a:\n",
    "  print(key)"
   ]
  },
  {
   "cell_type": "code",
   "execution_count": 2,
   "metadata": {},
   "outputs": [
    {
     "name": "stdout",
     "output_type": "stream",
     "text": [
      "[1, 2, 3]\n",
      "20\n",
      "15\n",
      "30\n"
     ]
    }
   ],
   "source": [
    "#value값으로 for문을 반복하기 위해서는 values()를 사용한다.\n",
    "\n",
    "for val in a.values():\n",
    "  print(val)"
   ]
  },
  {
   "cell_type": "code",
   "execution_count": 3,
   "metadata": {},
   "outputs": [
    {
     "name": "stdout",
     "output_type": "stream",
     "text": [
      "key=alice, value=[1, 2, 3]\n",
      "key=bob, value=20\n",
      "key=tony, value=15\n",
      "key=suzy, value=30\n"
     ]
    }
   ],
   "source": [
    "#key와 value를 한꺼번에 for문을 반복하려면 items()를 사용한다.\n",
    "for key, val in a.items():\n",
    "  print(\"key={key}, value={value}\".format(key=key, value=val))"
   ]
  },
  {
   "cell_type": "code",
   "execution_count": 6,
   "metadata": {},
   "outputs": [
    {
     "data": {
      "text/plain": [
       "True"
      ]
     },
     "execution_count": 6,
     "metadata": {},
     "output_type": "execute_result"
    }
   ],
   "source": [
    "#딕셔너리의 in\n",
    "#Key에 한해서 동작한다\n",
    "'alice' in a\n",
    "'teacher' in a\n",
    "'teacher' not in a"
   ]
  },
  {
   "cell_type": "code",
   "execution_count": 7,
   "metadata": {},
   "outputs": [
    {
     "data": {
      "text/plain": [
       "{'bob': 20, 'tony': 15, 'suzy': 30}"
      ]
     },
     "execution_count": 7,
     "metadata": {},
     "output_type": "execute_result"
    }
   ],
   "source": [
    "#딕셔너리의 요소 삭제\n",
    "#리스트와 동일하게 del 키워드를 사용\n",
    "a = {'alice':[1,2,3], 'bob':20, 'tony':15, 'suzy':30}\n",
    "del a['alice']\n",
    "a"
   ]
  },
  {
   "cell_type": "code",
   "execution_count": 9,
   "metadata": {},
   "outputs": [
    {
     "name": "stdout",
     "output_type": "stream",
     "text": [
      "{'alice': [1, 2, 3], 'bob': 20, 'tony': 15, 'suzy': 30, 'dodo': [1, 3, 5, 7], 'mario': 'pitch'}\n",
      "{'alice': [1, 2, 3],\n",
      " 'bob': 20,\n",
      " 'dodo': [1, 3, 5, 7],\n",
      " 'mario': 'pitch',\n",
      " 'suzy': 30,\n",
      " 'tony': 15}\n"
     ]
    }
   ],
   "source": [
    "#딕셔너리를 읽기 쉽게 표현해주는 pprint\n",
    "from pprint import pprint as pp\n",
    "a = {'alice':[1,2,3], 'bob':20, 'tony':15, 'suzy':30, \"dodo\":[1,3,5,7], \"mario\":\"pitch\"}\n",
    "print(a)\n",
    "pp(a)"
   ]
  }
 ],
 "metadata": {
  "kernelspec": {
   "display_name": "Python 3",
   "language": "python",
   "name": "python3"
  },
  "language_info": {
   "codemirror_mode": {
    "name": "ipython",
    "version": 3
   },
   "file_extension": ".py",
   "mimetype": "text/x-python",
   "name": "python",
   "nbconvert_exporter": "python",
   "pygments_lexer": "ipython3",
   "version": "3.11.1"
  },
  "orig_nbformat": 4,
  "vscode": {
   "interpreter": {
    "hash": "91dabeee8cd0ae110cf9e22734bf0603305345bb1f6ed7dffb9247effdb13618"
   }
  }
 },
 "nbformat": 4,
 "nbformat_minor": 2
}
