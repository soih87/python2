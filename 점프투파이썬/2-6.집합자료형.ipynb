{
 "cells": [
  {
   "attachments": {},
   "cell_type": "markdown",
   "metadata": {},
   "source": [
    "* 집합 자료형 : 파이썬 2.3부터 지원, 집합에 관련된 것을 쉽게 처리하기 위해 만든 자료형\n",
    "* 특징\n",
    "- 중복을 허용하지 않는다. (자료형의 중복을 제거하기 위한 필터로 사용된다.)\n",
    "- 순서가 없다\n",
    "  리스트, 튜플 - 순서가 있기 때문에 인덱싱을 통해 자료형의 값을 얻을 수 있다.\n",
    "  집합 - 순서가 없기 때문에 인덱싱으로 값을 얻을 수 없다.\n",
    "  딕셔너리 - 순서가 없기 때문에 인덱싱을 지원하지 않는다.\n",
    "  \n",
    "\n"
   ]
  },
  {
   "cell_type": "code",
   "execution_count": 4,
   "metadata": {},
   "outputs": [
    {
     "data": {
      "text/plain": [
       "set()"
      ]
     },
     "execution_count": 4,
     "metadata": {},
     "output_type": "execute_result"
    }
   ],
   "source": [
    "#집합 자료형 \n",
    "#set() 괄호 안에 리스트를 입력하여 만들 수 있다.\n",
    "s1 = set([1,2,3])\n",
    "s1\n",
    "\n",
    "#set() 괄호 안에 문자열을 입력하여 만들 수 있다.\n",
    "s2 = set(\"Hello\")\n",
    "s2\n",
    "\n",
    "#비어있는 집합 자료형은 s=set()로 만들 수 있다.\n"
   ]
  },
  {
   "cell_type": "code",
   "execution_count": 9,
   "metadata": {},
   "outputs": [
    {
     "data": {
      "text/plain": [
       "1"
      ]
     },
     "execution_count": 9,
     "metadata": {},
     "output_type": "execute_result"
    }
   ],
   "source": [
    "#set 자료형에 저장된 값을 인덱싱으로 접근하려면 리스트나 튜플로 변환한 후 해야 한다.\n",
    "s1 = set([1,2,3])\n",
    "l1 = list(s1)\n",
    "l1\n",
    "l1[0]\n",
    "t1 = tuple(s1)\n",
    "t1\n",
    "t1[0]"
   ]
  },
  {
   "cell_type": "code",
   "execution_count": null,
   "metadata": {},
   "outputs": [],
   "source": []
  }
 ],
 "metadata": {
  "kernelspec": {
   "display_name": "Python 3",
   "language": "python",
   "name": "python3"
  },
  "language_info": {
   "codemirror_mode": {
    "name": "ipython",
    "version": 3
   },
   "file_extension": ".py",
   "mimetype": "text/x-python",
   "name": "python",
   "nbconvert_exporter": "python",
   "pygments_lexer": "ipython3",
   "version": "3.11.1"
  },
  "orig_nbformat": 4,
  "vscode": {
   "interpreter": {
    "hash": "91dabeee8cd0ae110cf9e22734bf0603305345bb1f6ed7dffb9247effdb13618"
   }
  }
 },
 "nbformat": 4,
 "nbformat_minor": 2
}
