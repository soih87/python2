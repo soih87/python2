{
 "cells": [
  {
   "cell_type": "code",
   "execution_count": null,
   "metadata": {},
   "outputs": [],
   "source": [
    "\"\"\"\n",
    "제어문의 반복문 while 예제\n",
    "\"\"\"\n",
    "x=0\n",
    "\n",
    "while x < 10:       \n",
    "  x = x +1\n",
    "  if x < 3:\n",
    "    continue\n",
    "  print(x)\n",
    "  \n",
    "  if x > 7:\n",
    "    break\n",
    "  \n",
    "# 프로그램 실행결과가 어떻게 나올지 분석  \n",
    "# 3 4 5 6 7 8"
   ]
  },
  {
   "cell_type": "code",
   "execution_count": 3,
   "metadata": {},
   "outputs": [
    {
     "name": "stdout",
     "output_type": "stream",
     "text": [
      "김종호\n",
      "서울시 강남구\n",
      "종료!!\n"
     ]
    }
   ],
   "source": [
    "\"\"\"\n",
    "제어문의 무한 반복문 while 예제\n",
    "\"\"\"\n",
    "\n",
    "while True:   #무한 루프\n",
    "  choice = int(input('1.이름출력 2.주소출력 3.끝내기 선택하세요: '))\n",
    "  \n",
    "  if choice==1 :\n",
    "    print('김종호')\n",
    "  elif choice == 2:\n",
    "    print('서울시 강남구')\n",
    "  elif choice == 3:\n",
    "    print('종료!!')\n",
    "    break\n",
    "  else:\n",
    "    print('잘못 입력했습니다.')  "
   ]
  },
  {
   "cell_type": "code",
   "execution_count": null,
   "metadata": {},
   "outputs": [],
   "source": []
  }
 ],
 "metadata": {
  "kernelspec": {
   "display_name": "Python 3",
   "language": "python",
   "name": "python3"
  },
  "language_info": {
   "codemirror_mode": {
    "name": "ipython",
    "version": 3
   },
   "file_extension": ".py",
   "mimetype": "text/x-python",
   "name": "python",
   "nbconvert_exporter": "python",
   "pygments_lexer": "ipython3",
   "version": "3.11.1"
  },
  "orig_nbformat": 4,
  "vscode": {
   "interpreter": {
    "hash": "91dabeee8cd0ae110cf9e22734bf0603305345bb1f6ed7dffb9247effdb13618"
   }
  }
 },
 "nbformat": 4,
 "nbformat_minor": 2
}
