{
 "cells": [
  {
   "attachments": {},
   "cell_type": "markdown",
   "metadata": {},
   "source": [
    "* if문의 응용\n",
    "if A in B : B(list, tupe, 문자열 자료구조)안에 A가 있다면, 결과는 참(True)이다.\n",
    "if A not in B : B(list, tupe, 문자열 자료구조)안에 A가 없다면, 결과는 참(True)이다.  "
   ]
  },
  {
   "cell_type": "code",
   "execution_count": 3,
   "metadata": {},
   "outputs": [
    {
     "name": "stdout",
     "output_type": "stream",
     "text": [
      "W가 문자열 안에 있다.\n"
     ]
    }
   ],
   "source": [
    "\"\"\"\n",
    "if문의 응용 예제 01\n",
    "\"\"\"\n",
    "\n",
    "strdata = 'Hello World'\n",
    "if 'W' in strdata:\n",
    "  print('W가 문자열 안에 있다.')\n",
    "else:\n",
    "  print('W가 문자열 안에 없다.')  "
   ]
  },
  {
   "cell_type": "code",
   "execution_count": 4,
   "metadata": {},
   "outputs": [
    {
     "name": "stdout",
     "output_type": "stream",
     "text": [
      "주머니에 돈이 있으면 택시를 탄다.\n"
     ]
    }
   ],
   "source": [
    "\"\"\"\n",
    "if문의 응용 예제 02\n",
    "[문제] \"만약 주머니에 돈이 있으면 택시를 타고, 없으면 걸어간다.\n",
    "\"\"\"\n",
    "\n",
    "pocket = ['money', 'paper', 'cellphone']\n",
    "\n",
    "# if ~ in 제어문을 활용하여 코딩하세요.\n",
    "if 'money' in pocket: \n",
    "  print(\"택시를 타고 가라.\")\n",
    "else:\n",
    "  print(\"걸어가라.\")  "
   ]
  },
  {
   "cell_type": "code",
   "execution_count": 6,
   "metadata": {},
   "outputs": [
    {
     "name": "stdout",
     "output_type": "stream",
     "text": [
      "카드를 꺼내라.\n"
     ]
    }
   ],
   "source": [
    "\"\"\"\n",
    "if문의 응용 예제 03\n",
    "[문제] \"만약 주머니에 돈이 있으면 가만히 있고, 주머니에 돈이 없으면 카드를 꺼내라.\n",
    "        pass 키워드를 활용하여 프로그램을 작성하세요!!\n",
    "        단, 주머니에 돈이 있으면 아무 결과값도 보여주지 않는다.\n",
    "        돈이 없으면 \"카드를 꺼내라\" 출력한다.\n",
    "\"\"\"\n",
    "\n",
    "pocket = ['money', 'paper', 'cellphone']\n",
    "\n",
    "# if ~ in 제어문을 활용하여 코딩하세요.\n",
    "if 'money' in pocket: \n",
    "  pass \n",
    "else:\n",
    "  print(\"카드를 꺼내라.\")  "
   ]
  }
 ],
 "metadata": {
  "kernelspec": {
   "display_name": "Python 3",
   "language": "python",
   "name": "python3"
  },
  "language_info": {
   "codemirror_mode": {
    "name": "ipython",
    "version": 3
   },
   "file_extension": ".py",
   "mimetype": "text/x-python",
   "name": "python",
   "nbconvert_exporter": "python",
   "pygments_lexer": "ipython3",
   "version": "3.11.1"
  },
  "orig_nbformat": 4,
  "vscode": {
   "interpreter": {
    "hash": "91dabeee8cd0ae110cf9e22734bf0603305345bb1f6ed7dffb9247effdb13618"
   }
  }
 },
 "nbformat": 4,
 "nbformat_minor": 2
}
