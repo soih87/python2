{
 "cells": [
  {
   "cell_type": "code",
   "execution_count": 7,
   "metadata": {},
   "outputs": [
    {
     "name": "stdout",
     "output_type": "stream",
     "text": [
      "1 2 3 4 5 6 7 8 9 10 "
     ]
    }
   ],
   "source": [
    "\"\"\"\n",
    "for문 예제 1\n",
    "\n",
    "for 변수 in 범위:\n",
    "  반복으로 실행할 코드\n",
    "  \n",
    "범위(in 다음에 나오는)에 올 수 있는 것은 => 리스트, 튜플, dict, 문자열, range() 함수   \n",
    "\"\"\"\n",
    "scope = [10, 20, 30, 40, 50, 60, 70, 80, 90, 100]\n",
    "\n",
    "#for x in scope:  \n",
    "# print(x)  #줄바꿈\n",
    "#  print(x, end=' ') #줄바꾸지 않고 출력\n",
    "\n",
    "#범위 자리에 range() 함수 적용하는 예제\n",
    "for i in range(1, 11):    # 1부터 11미만까지 1씩 증가하면서 반복해라\n",
    "  print(i, end=' ')\n",
    "#  print(scope[i], end=' ')  "
   ]
  },
  {
   "cell_type": "code",
   "execution_count": 8,
   "metadata": {},
   "outputs": [
    {
     "name": "stdout",
     "output_type": "stream",
     "text": [
      "1\n",
      "2\n",
      "3\n"
     ]
    }
   ],
   "source": [
    "\"\"\"\n",
    "for문 예제 2\n",
    "\n",
    "for ~ continue ~ break : 반복(for) + 비교판단(if)\n",
    "\"\"\"\n",
    "scope = [1, 2, 3, 4, 5]\n",
    "\n",
    "for x in scope :        # 순서도(flow chart)로 로직 확인해볼 것. \n",
    "  print(x)\n",
    "  if x < 3:\n",
    "    continue\n",
    "  else:\n",
    "    break"
   ]
  }
 ],
 "metadata": {
  "kernelspec": {
   "display_name": "Python 3",
   "language": "python",
   "name": "python3"
  },
  "language_info": {
   "codemirror_mode": {
    "name": "ipython",
    "version": 3
   },
   "file_extension": ".py",
   "mimetype": "text/x-python",
   "name": "python",
   "nbconvert_exporter": "python",
   "pygments_lexer": "ipython3",
   "version": "3.11.1"
  },
  "orig_nbformat": 4,
  "vscode": {
   "interpreter": {
    "hash": "91dabeee8cd0ae110cf9e22734bf0603305345bb1f6ed7dffb9247effdb13618"
   }
  }
 },
 "nbformat": 4,
 "nbformat_minor": 2
}
