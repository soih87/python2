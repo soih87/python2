{
 "cells": [
  {
   "cell_type": "code",
   "execution_count": 3,
   "metadata": {},
   "outputs": [
    {
     "name": "stdout",
     "output_type": "stream",
     "text": [
      "30\n",
      "인공지능~머신러닝, 딥러닝!!\n"
     ]
    }
   ],
   "source": [
    "\"\"\"\n",
    "함수 생성 예제\n",
    "\"\"\"\n",
    "def add_number(num1, num2): #돌려줄 값이 있으면 return 필요\n",
    "  result = num1 + num2\n",
    "  return result\n",
    "  \n",
    "def add_txt(txt1, txt2):    #돌려줄 값이 없으면 return 불필요 (자바에서는 void)\n",
    "  print(txt1 + txt2)\n",
    "  \n",
    "#함수 호출\n",
    "ans = add_number(10, 20)\n",
    "print(ans)      #30 출력\n",
    "text1='인공지능~'\n",
    "text2='머신러닝, 딥러닝!!'\n",
    "add_txt(text1, text2) #인공지능~머신러닝, 딥러닝!!\n",
    "  "
   ]
  },
  {
   "attachments": {},
   "cell_type": "markdown",
   "metadata": {},
   "source": [
    "* 함수 \n",
    "1)이미 만들어진 것 : int(), input(), str(), divmod() 등 내장함수\n",
    "2)개발자가 필요에 의해 생성 \n",
    "\n",
    "def xxx() :   # 총무부장\n",
    "  return      # 결과물을 사장에게 보고 : 리턴\n",
    "\n",
    "def yyy() :   # 기획부장\n",
    "              # 일을 하고 사장에게 보고하지 않음 : 리턴 없다\n",
    "\n",
    "x = xxx()     # 사장이 총무부장을 호출한다. 결과물을 보고받아(리턴) 변수에 값 전달\n",
    "yyy()         # 사장이 기획부장을 호출한다. 보고받지 않는다(리턴받지 않는다)."
   ]
  }
 ],
 "metadata": {
  "kernelspec": {
   "display_name": "Python 3",
   "language": "python",
   "name": "python3"
  },
  "language_info": {
   "codemirror_mode": {
    "name": "ipython",
    "version": 3
   },
   "file_extension": ".py",
   "mimetype": "text/x-python",
   "name": "python",
   "nbconvert_exporter": "python",
   "pygments_lexer": "ipython3",
   "version": "3.11.1"
  },
  "orig_nbformat": 4,
  "vscode": {
   "interpreter": {
    "hash": "91dabeee8cd0ae110cf9e22734bf0603305345bb1f6ed7dffb9247effdb13618"
   }
  }
 },
 "nbformat": 4,
 "nbformat_minor": 2
}
