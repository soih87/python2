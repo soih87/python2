{
 "cells": [
  {
   "cell_type": "code",
   "execution_count": 6,
   "metadata": {},
   "outputs": [
    {
     "name": "stdout",
     "output_type": "stream",
     "text": [
      "지역변수\n",
      "전역변수\n",
      "10\n",
      "10\n",
      "50\n"
     ]
    }
   ],
   "source": [
    "\"\"\"\n",
    "지역변수, 전역변수 개념 이해 예제\n",
    "\"\"\"\n",
    "param = 10              #전역변수 \n",
    "strdata = '전역변수'    #전역변수 (함수 밖에서 선언한 변수) : 코드 전반에 걸쳐 유효하다.\n",
    "\n",
    "def func1():            #인자값 없는 함수\n",
    "  strdata = '지역변수'  #지역변수 (함수 안에서 선언한 변수) : 함수 안에서만 유효하다.\n",
    "  print(strdata)        #함수 호출시, 전역변수와 지역변수가 함께 있는 경우, 지역변수가 우선한다.\n",
    "  \n",
    "def func2(param):       #인자값 있는 함수\n",
    "  param = 20\n",
    "  \n",
    "def func3():            #인자값 없는 함수\n",
    "  global param\n",
    "  param = 50    \n",
    "    \n",
    "#함수 호출\n",
    "func1()                 #'지역변수' 출력\n",
    "print(strdata)          #'전역변수' 출력 - 함수 호출하지 않고 바로 변수값 출력시 전역변수가 우선한다. \n",
    "print(param)            # 10 출력 - 함수 밖에서는 전역변수가 우선한다.\n",
    "func2(param)            # param은 지역변수, 함수내에서만 유효하다. 함수를 벗어나는 순간 param은 사라진다. \n",
    "print(param)            # 10 출력 \n",
    "func3()\n",
    "print(param)            # 50 출력"
   ]
  }
 ],
 "metadata": {
  "kernelspec": {
   "display_name": "Python 3",
   "language": "python",
   "name": "python3"
  },
  "language_info": {
   "codemirror_mode": {
    "name": "ipython",
    "version": 3
   },
   "file_extension": ".py",
   "mimetype": "text/x-python",
   "name": "python",
   "nbconvert_exporter": "python",
   "pygments_lexer": "ipython3",
   "version": "3.11.1"
  },
  "orig_nbformat": 4,
  "vscode": {
   "interpreter": {
    "hash": "91dabeee8cd0ae110cf9e22734bf0603305345bb1f6ed7dffb9247effdb13618"
   }
  }
 },
 "nbformat": 4,
 "nbformat_minor": 2
}
