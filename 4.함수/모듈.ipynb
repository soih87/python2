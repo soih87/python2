{
 "cells": [
  {
   "cell_type": "code",
   "execution_count": 1,
   "metadata": {},
   "outputs": [
    {
     "name": "stdout",
     "output_type": "stream",
     "text": [
      "5초간 프로그램을 정지합니다!!\n",
      "프로그램 재시작합니다!!\n"
     ]
    }
   ],
   "source": [
    "\"\"\"\n",
    "파이썬 모듈(module) 사용하기 예제\n",
    "\n",
    "내장함수 : 이미 임베드되어 있음\n",
    "모듈 : 필요시 import해야 함\n",
    "\"\"\"\n",
    "import time\n",
    "\n",
    "print('5초간 프로그램을 정지합니다!!')\n",
    "time.sleep(5)       # 5초간 프로그램을 멈춰라 (CPU를 5초동안 아무일도 안하게 쉬게 한다)\n",
    "print('5초가 지났습니다.')\n"
   ]
  }
 ],
 "metadata": {
  "kernelspec": {
   "display_name": "Python 3",
   "language": "python",
   "name": "python3"
  },
  "language_info": {
   "codemirror_mode": {
    "name": "ipython",
    "version": 3
   },
   "file_extension": ".py",
   "mimetype": "text/x-python",
   "name": "python",
   "nbconvert_exporter": "python",
   "pygments_lexer": "ipython3",
   "version": "3.11.1"
  },
  "orig_nbformat": 4,
  "vscode": {
   "interpreter": {
    "hash": "91dabeee8cd0ae110cf9e22734bf0603305345bb1f6ed7dffb9247effdb13618"
   }
  }
 },
 "nbformat": 4,
 "nbformat_minor": 2
}
