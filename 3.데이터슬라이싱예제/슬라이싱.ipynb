{
 "cells": [
  {
   "attachments": {},
   "cell_type": "markdown",
   "metadata": {},
   "source": [
    "* 파이썬의 '슬라이싱' 개념 이해\n",
    "\n",
    "슬라이싱의 기본 문법\n",
    "\n",
    "[시작인덱스:끝인덱스:스텝]  => 스텝은 생략 가능함!!"
   ]
  },
  {
   "cell_type": "code",
   "execution_count": 6,
   "metadata": {},
   "outputs": [
    {
     "name": "stdout",
     "output_type": "stream",
     "text": [
      "ime \n",
      "Time is\n",
      "oney!!\n",
      "Time is mone\n",
      "y!!\n",
      "Time is money!!\n",
      "Tm smny!\n"
     ]
    }
   ],
   "source": [
    "\"\"\"\n",
    "파이썬의 '슬라이싱' 개념 이해 => 빅데이터 분석시 중요함!! \n",
    "                                (주로 파일 저장시 리스트를 가지고 슬라이싱이 활용됨)\n",
    "[시작인덱스:끝인덱스:스텝]  => 스텝은 생략 가능했을 때 default가 1이다!! 끝인덱스는 미만\n",
    "\"\"\"\n",
    "strdata = 'Time is money!!'\n",
    "\n",
    "print(strdata[1:5])     # 결과 : 'ime ' => [1:5] 인덱스가 1이상부터 5미만까지 추출\n",
    "print(strdata[:7])      # 결과 : 'Time is' => 시작인덱스가 없으면, 0 ~ 7미만까지 추출\n",
    "print(strdata[9:])      # 결과 : 'oney!!' => 끝인덱스가 없으면, 9 ~ 끝까지 추출\n",
    "print(strdata[:-3])     # 결과 : 'Time is mone' => 처음부터 끝에서 3번째 미만까지 추출\n",
    "print(strdata[-3:])     # 결과 : 'y!!' => 끝에서 3번째부터 마지막까지 추출\n",
    "print(strdata[:])       # 결과 : 'Time is money!!' => 처음부터 끝까지 추출\n",
    "print(strdata[::2])     # 결과 : 'Tm smny!'"
   ]
  }
 ],
 "metadata": {
  "kernelspec": {
   "display_name": "Python 3",
   "language": "python",
   "name": "python3"
  },
  "language_info": {
   "codemirror_mode": {
    "name": "ipython",
    "version": 3
   },
   "file_extension": ".py",
   "mimetype": "text/x-python",
   "name": "python",
   "nbconvert_exporter": "python",
   "pygments_lexer": "ipython3",
   "version": "3.11.1"
  },
  "orig_nbformat": 4,
  "vscode": {
   "interpreter": {
    "hash": "91dabeee8cd0ae110cf9e22734bf0603305345bb1f6ed7dffb9247effdb13618"
   }
  }
 },
 "nbformat": 4,
 "nbformat_minor": 2
}
